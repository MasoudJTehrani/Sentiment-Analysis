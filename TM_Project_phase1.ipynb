{
  "nbformat": 4,
  "nbformat_minor": 0,
  "metadata": {
    "colab": {
      "name": "TM_Project_phase1.ipynb",
      "provenance": [],
      "collapsed_sections": []
    },
    "kernelspec": {
      "name": "python3",
      "display_name": "Python 3"
    },
    "language_info": {
      "name": "python"
    }
  },
  "cells": [
    {
      "cell_type": "code",
      "execution_count": 1,
      "metadata": {
        "id": "rFlg3mYMvgmE"
      },
      "outputs": [],
      "source": [
        "import pandas as pd\n",
        "import numpy as np\n",
        "import os"
      ]
    },
    {
      "cell_type": "code",
      "source": [
        "comments = pd.read_csv(\"/content/drive/MyDrive/Colab Files/TM-Project/comments.csv\", low_memory=False).iloc[0:478676, :]\n",
        "answers = pd.read_csv(\"/content/drive/MyDrive/Colab Files/TM-Project/Answers.csv\", low_memory=False).iloc[0:128813, :3]\n",
        "questions = pd.read_csv(\"/content/drive/MyDrive/Colab Files/TM-Project/Questions.csv\", low_memory=False).iloc[0:15463, :3]\n",
        "newcomments = pd.read_csv(\"/content/drive/MyDrive/Colab Files/TM-Project/newcomments.csv\")\n",
        "newanswers = pd.read_csv(\"/content/drive/MyDrive/Colab Files/TM-Project/newanswers.csv\")"
      ],
      "metadata": {
        "id": "Z9bP2bra5hyU"
      },
      "execution_count": 2,
      "outputs": []
    },
    {
      "cell_type": "code",
      "source": [
        "print(questions)"
      ],
      "metadata": {
        "colab": {
          "base_uri": "https://localhost:8080/"
        },
        "id": "TnO51SuQkv7y",
        "outputId": "19dcd393-75b2-4d7d-b297-aa3a4b315caa"
      },
      "execution_count": null,
      "outputs": [
        {
          "output_type": "stream",
          "name": "stdout",
          "text": [
            "               Id  ...                                               Body\n",
            "0      41412463.0  ...  <p>I have a global variable <code>global.logge...\n",
            "1      41412468.0  ...  <p>I'm trying to wrap my head around an MySQL ...\n",
            "2      41412475.0  ...  <p>I'm making a clickable dropdown menu. But w...\n",
            "3      41412480.0  ...  <p>I am trying to use a dom repeat template wi...\n",
            "4      41412481.0  ...  <p>I have setup drone.io locally and created a...\n",
            "...           ...  ...                                                ...\n",
            "15458  41764579.0  ...  <p>I'd like to go through all n-digit numbers ...\n",
            "15459  41764605.0  ...  <p>I'm trying to customize ASP Identity 2.0 to...\n",
            "15460  41764618.0  ...  <pre><code>$(\"selector\").data(\"name\"  null); c...\n",
            "15461  41764658.0  ...  <p>I am seeing the following pattern in a lot ...\n",
            "15462  41764706.0  ...  <p>I'm having troubles with updating found obj...\n",
            "\n",
            "[15463 rows x 3 columns]\n"
          ]
        }
      ]
    },
    {
      "cell_type": "code",
      "source": [
        "print(answers)"
      ],
      "metadata": {
        "colab": {
          "base_uri": "https://localhost:8080/"
        },
        "id": "QtdN_xbdYFXc",
        "outputId": "d7ed75cd-3def-4f52-b936-e2583319cd69"
      },
      "execution_count": null,
      "outputs": [
        {
          "output_type": "stream",
          "name": "stdout",
          "text": [
            "                Id  ...                                               Body\n",
            "0       41412484.0  ...  <p>You need to create a JS file called script....\n",
            "1       41412502.0  ...  <p>The reference to the function in <code>setI...\n",
            "2       41412509.0  ...  <p>The selector is totally clear. You are aski...\n",
            "3       41412516.0  ...  <p>In general - a comma in jQuery is a separat...\n",
            "4       41412517.0  ...  <p>You declared <code>answer</code> within the...\n",
            "...            ...  ...                                                ...\n",
            "128808  41764841.0  ...  <p>I think you want this:</p>  <pre><code>sele...\n",
            "128809  41764842.0  ...  <p>For IE <code>textinput</code> works and for...\n",
            "128810  41764843.0  ...  <p>I got an answer on the caniuse support page...\n",
            "128811  41764846.0  ...  <p>ORA-01804: failure to initialize timezone i...\n",
            "128812  41764849.0  ...  <p>You are declaring <code>v</code> as non-poi...\n",
            "\n",
            "[128813 rows x 3 columns]\n"
          ]
        }
      ]
    },
    {
      "cell_type": "code",
      "source": [
        "print(comments)"
      ],
      "metadata": {
        "colab": {
          "base_uri": "https://localhost:8080/"
        },
        "id": "_Tw_Gis7FlTw",
        "outputId": "fdf6057d-f232-4bcf-911e-df5fcc0b0f59"
      },
      "execution_count": null,
      "outputs": [
        {
          "output_type": "stream",
          "name": "stdout",
          "text": [
            "                Id  ...                                               Text\n",
            "0       70028721.0  ...                 Thanks. Is there any fix for this?\n",
            "1       70028725.0  ...  Make a test case and find out... Answer it kee...\n",
            "2       70028732.0  ...  Have you checked out `autoexpect`? It records ...\n",
            "3       70028749.0  ...  I was going to comment like @epascarello becau...\n",
            "4       70028757.0  ...  html code? you should call that javascript aft...\n",
            "...            ...  ...                                                ...\n",
            "478671  88316260.0  ...  This answer just ended 30 minutes of frustrati...\n",
            "478672  88317594.0  ...  Most annoying things are often bound to advert...\n",
            "478673  88318391.0  ...  For me  on beta6.0.0 I deleted node modules an...\n",
            "478674  88319085.0  ...  the latest version of spark has some support f...\n",
            "478675  88323008.0  ...  Following @milkersarac if you are using `otf` ...\n",
            "\n",
            "[478676 rows x 3 columns]\n"
          ]
        }
      ]
    },
    {
      "cell_type": "markdown",
      "source": [
        "#File generator"
      ],
      "metadata": {
        "id": "Y64mvT09TTaY"
      }
    },
    {
      "cell_type": "code",
      "source": [
        "newanswers = pd.DataFrame(columns= ['Id','ParentId(QuestionId)','Body'])\n",
        "for q in questions['Id']:\n",
        "  entry = answers.loc[ answers['ParentId(QuestionId)'] == q ] \n",
        "  newanswers = pd.concat([newanswers,entry])\n",
        "newanswers.reset_index(drop=True, inplace=True)\n",
        "newanswers.to_csv('/content/drive/MyDrive/Colab Files/TM-Project/newanswers.csv', index=False)\n",
        "print(newanswers)"
      ],
      "metadata": {
        "colab": {
          "base_uri": "https://localhost:8080/"
        },
        "id": "8buIVrkkTVn3",
        "outputId": "25217c1c-c6aa-49a4-ad0c-65d87f17bc5f"
      },
      "execution_count": 3,
      "outputs": [
        {
          "output_type": "stream",
          "name": "stdout",
          "text": [
            "               Id  ...                                               Body\n",
            "0      41412502.0  ...  <p>The reference to the function in <code>setI...\n",
            "1      41412618.0  ...  <p>Use this instead:</p>  <pre><code>SELECT * ...\n",
            "2      41412484.0  ...  <p>You need to create a JS file called script....\n",
            "3      41412570.0  ...  <p>Try</p>  <pre><code>document.addEventListen...\n",
            "4      41413910.0  ...  <p>In order to execute JavaScript from an exte...\n",
            "...           ...  ...                                                ...\n",
            "37270  41764760.0  ...  <p>What about this?</p>  <p><div class=\"snippe...\n",
            "37271  41764777.0  ...  <p>It looks like your method should work  tho ...\n",
            "37272  41764751.0  ...  <p>Assuming the rest of the code tests for <co...\n",
            "37273  41764785.0  ...  <p>Use find to get the object and then use ind...\n",
            "37274  41764787.0  ...  <p>You could use <a href=\"https://developer.mo...\n",
            "\n",
            "[37275 rows x 3 columns]\n"
          ]
        }
      ]
    },
    {
      "cell_type": "code",
      "source": [
        "newcomments = pd.DataFrame(columns= ['Id','PostId(AnswerId)','Text'])\n",
        "for a in newanswers['Id']:\n",
        "  entry = comments.loc[ comments['PostId(AnswerId)'] == a ] \n",
        "  newcomments = pd.concat([newcomments,entry])\n",
        "newcomments.reset_index(drop=True, inplace=True)\n",
        "newcomments.to_csv('/content/drive/MyDrive/Colab Files/TM-Project/newcomments.csv', index=False)\n",
        "print(newcomments)"
      ],
      "metadata": {
        "colab": {
          "base_uri": "https://localhost:8080/"
        },
        "id": "INKWyOjST6S4",
        "outputId": "75a07a56-5324-4aae-e747-3a631f27435a"
      },
      "execution_count": 4,
      "outputs": [
        {
          "output_type": "stream",
          "name": "stdout",
          "text": [
            "               Id  ...                                               Text\n",
            "0      70028830.0  ...  Thanks for saving me the unit testing time. Co...\n",
            "1      70028839.0  ...  As long as you didn't call the `clearInterval`...\n",
            "2      70028844.0  ...  ahh its referenced from `window/application` t...\n",
            "3      70029895.0  ...  @Mozzieâ€”setInterval has no idea of how it wa...\n",
            "4      70029168.0  ...  SELECTing the expression first Â» I didn't eve...\n",
            "...           ...  ...                                                ...\n",
            "72019  70722910.0  ...  @PeterA.Schneider: Indeed but that is not the ...\n",
            "72020  70727734.0  ...  Ah  if the c'tor is not declared in the class ...\n",
            "72021  70720893.0  ...  You already filtered the element  so you can u...\n",
            "72022  70720920.0  ...            yes because its the reference passed :)\n",
            "72023  70720939.0  ...  Yup  that's right - But at least you're demons...\n",
            "\n",
            "[72024 rows x 3 columns]\n"
          ]
        }
      ]
    },
    {
      "cell_type": "markdown",
      "source": [
        "#Output Generator"
      ],
      "metadata": {
        "id": "aFheOO2ukZui"
      }
    },
    {
      "cell_type": "code",
      "source": [
        "path = \"/content/drive/MyDrive/Colab Files/TM-Project/Predict(comment)\"\n",
        "output = []\n",
        "for file in os.listdir(path):\n",
        "  file_path = f\"{path}/{file}\"\n",
        "  csv = pd.read_csv(file_path)\n",
        "  for i in range(len(csv)):\n",
        "    output.append(csv.loc[csv['Row'] == 't'+str(i), 'Predicted'].iloc[0])\n",
        "\n",
        "output = pd.DataFrame(output, columns=['Label'])"
      ],
      "metadata": {
        "id": "3d-FxokYoSSE"
      },
      "execution_count": 5,
      "outputs": []
    },
    {
      "cell_type": "markdown",
      "source": [
        "#Accuracy calc"
      ],
      "metadata": {
        "id": "oR-rM6eL1M_S"
      }
    },
    {
      "cell_type": "code",
      "source": [
        "df = newcomments['PostId(AnswerId)'].copy()\n",
        "df = pd.concat([df, output], axis= 1)\n",
        "df = df.dropna()\n",
        "df.loc[df['Label'] == 'positive', 'Label'] = 5\n",
        "df.loc[df['Label'] == 'negative', 'Label'] = 0\n",
        "df.loc[df['Label'] == 'neutral', 'Label'] = 1\n",
        "print(df)"
      ],
      "metadata": {
        "colab": {
          "base_uri": "https://localhost:8080/"
        },
        "id": "mOOq6yDWs1eH",
        "outputId": "936fb1de-7529-449d-be0c-3d216ba28f0a"
      },
      "execution_count": null,
      "outputs": [
        {
          "output_type": "stream",
          "name": "stdout",
          "text": [
            "       PostId(AnswerId) Label\n",
            "0            41412502.0     0\n",
            "1            41412502.0     1\n",
            "2            41412502.0     5\n",
            "3            41412502.0     0\n",
            "4            41412618.0     5\n",
            "...                 ...   ...\n",
            "72019        41764751.0     1\n",
            "72020        41764751.0     1\n",
            "72021        41764785.0     1\n",
            "72022        41764785.0     1\n",
            "72023        41764785.0     0\n",
            "\n",
            "[72024 rows x 2 columns]\n"
          ]
        }
      ]
    },
    {
      "cell_type": "code",
      "source": [
        "answerID = []\n",
        "answerScore = []\n",
        "for a in df['PostId(AnswerId)'].unique():\n",
        "  score = df.loc[df['PostId(AnswerId)'] == a, 'Label'].sum()\n",
        "  answerID.append(a)\n",
        "  answerScore.append(score)"
      ],
      "metadata": {
        "id": "Hh4TXFX67Irk"
      },
      "execution_count": null,
      "outputs": []
    },
    {
      "cell_type": "code",
      "source": [
        "answerID = pd.DataFrame(answerID, columns=['answerID'])\n",
        "answerScore = pd.DataFrame(answerScore, columns=['answerScore'])\n",
        "scores = pd.concat([answerID, answerScore], axis= 1)\n",
        "print(scores)"
      ],
      "metadata": {
        "colab": {
          "base_uri": "https://localhost:8080/"
        },
        "id": "jyGcaVT5_KMj",
        "outputId": "b58274e6-38ef-401c-c5c7-427ea334cb1c"
      },
      "execution_count": null,
      "outputs": [
        {
          "output_type": "stream",
          "name": "stdout",
          "text": [
            "         answerID  answerScore\n",
            "0      41412502.0            6\n",
            "1      41412618.0            5\n",
            "2      41412484.0            6\n",
            "3      41412570.0            9\n",
            "4      41429503.0            6\n",
            "...           ...          ...\n",
            "24284  41764790.0            5\n",
            "24285  41764674.0            5\n",
            "24286  41764684.0            0\n",
            "24287  41764751.0           20\n",
            "24288  41764785.0            2\n",
            "\n",
            "[24289 rows x 2 columns]\n"
          ]
        }
      ]
    },
    {
      "cell_type": "code",
      "source": [
        "aIDs = newanswers[['Id' , 'ParentId(QuestionId)']]\n",
        "scores['questionID'] = np.zeros(len(scores))\n",
        "for id, parent in zip(aIDs['Id'], aIDs['ParentId(QuestionId)']):\n",
        "  scores.loc[ scores['answerID'] == id , 'questionID'] = parent\n",
        "\n",
        "print(scores)"
      ],
      "metadata": {
        "colab": {
          "base_uri": "https://localhost:8080/"
        },
        "id": "zZnIipwrE_D2",
        "outputId": "2f90d1d5-9190-47a6-ca29-c63f933a806d"
      },
      "execution_count": null,
      "outputs": [
        {
          "output_type": "stream",
          "name": "stdout",
          "text": [
            "         answerID  answerScore  questionID\n",
            "0      41412502.0            6  41412463.0\n",
            "1      41412618.0            5  41412468.0\n",
            "2      41412484.0            6  41412475.0\n",
            "3      41412570.0            9  41412475.0\n",
            "4      41429503.0            6  41412480.0\n",
            "...           ...          ...         ...\n",
            "24284  41764790.0            5  41764579.0\n",
            "24285  41764674.0            5  41764605.0\n",
            "24286  41764684.0            0  41764618.0\n",
            "24287  41764751.0           20  41764658.0\n",
            "24288  41764785.0            2  41764706.0\n",
            "\n",
            "[24289 rows x 3 columns]\n"
          ]
        }
      ]
    },
    {
      "cell_type": "code",
      "source": [
        "accepted = []\n",
        "for q in scores['questionID'].unique():\n",
        "  accepted.append(scores.iloc[scores.loc[scores['questionID'] == q, 'answerScore'].idxmax(), 0])\n",
        "\n",
        "len(accepted)"
      ],
      "metadata": {
        "colab": {
          "base_uri": "https://localhost:8080/"
        },
        "id": "_d6awQAI7dc3",
        "outputId": "53f7cb71-1c54-47bb-cbe3-02190d03c48b"
      },
      "execution_count": null,
      "outputs": [
        {
          "output_type": "execute_result",
          "data": {
            "text/plain": [
              "15462"
            ]
          },
          "metadata": {},
          "execution_count": 145
        }
      ]
    },
    {
      "cell_type": "code",
      "source": [
        "trueAccepted = questions['AcceptedAnswerId'].to_numpy()\n",
        "correct = 0\n",
        "for i in accepted:\n",
        "  if i in trueAccepted:\n",
        "    correct += 1\n",
        "\n",
        "print( \"accuracy: %.2f%%\" %(correct / len(accepted)*100 ))"
      ],
      "metadata": {
        "colab": {
          "base_uri": "https://localhost:8080/"
        },
        "id": "w92b0fVgAxL_",
        "outputId": "d168de34-ad45-4148-809c-4136a0417386"
      },
      "execution_count": null,
      "outputs": [
        {
          "output_type": "stream",
          "name": "stdout",
          "text": [
            "accuracy: 61.55%\n"
          ]
        }
      ]
    }
  ]
}